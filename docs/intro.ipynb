{
 "cells": [
  {
   "cell_type": "markdown",
   "metadata": {},
   "source": [
    "# GeosPy: Geolocation Inference Made Easy\n",
    "GeosPy is a python 3 library written to make geolocation inference easy. _Geolocation inference_ is the identification of the real-world geographic location of an object on Earth based off of available data. GeosPy currently only supports network based inference methods."
   ]
  },
  {
   "cell_type": "code",
   "execution_count": 1,
   "metadata": {
    "collapsed": true
   },
   "outputs": [],
   "source": [
    "from GeosPy import Geos\n",
    "geosPy = Geos()"
   ]
  },
  {
   "cell_type": "markdown",
   "metadata": {},
   "source": [
    "## Basic Example\n",
    "The standard use case of GeosPy is trying to find a user's location given various data. "
   ]
  },
  {
   "cell_type": "markdown",
   "metadata": {},
   "source": [
    "To use GeosPy, the first thing we need to do is see what models are available."
   ]
  },
  {
   "cell_type": "code",
   "execution_count": 2,
   "metadata": {
    "collapsed": false
   },
   "outputs": [
    {
     "name": "stdout",
     "output_type": "stream",
     "text": [
      "frozenset({'jakartr', 'backstrom'})\n"
     ]
    }
   ],
   "source": [
    "print(geosPy.models)"
   ]
  },
  {
   "cell_type": "markdown",
   "metadata": {},
   "source": [
    "Now that we know the available models, we'll make the choice to use _Backstrom_ model (see [Jurgens et al. (2015)](http://www-cs.stanford.edu/~jurgens/docs/jurgens-et-al_icwsm-2015.pdf) for the pros and cons of various models). \n",
    "\n",
    "We can then select our model by calling the `set_model` method."
   ]
  },
  {
   "cell_type": "code",
   "execution_count": 7,
   "metadata": {
    "collapsed": false
   },
   "outputs": [],
   "source": [
    "backstrom = geosPy.set_model('backstrom')"
   ]
  },
  {
   "cell_type": "markdown",
   "metadata": {},
   "source": [
    "Now that we have our GeosPy class instantiated with an appropriate model, we need to gather our data (this is where you come in!) and put it in the appropriate format, a dictionary of objects mapping to location (in latitude and longitude). \n",
    "\n",
    "In this example we'll use people mapped to their home locations."
   ]
  },
  {
   "cell_type": "code",
   "execution_count": 8,
   "metadata": {
    "collapsed": true
   },
   "outputs": [],
   "source": [
    "user_location_dict = {'Tyler': (44, -71.5), 'Tim': (45.5, -73.5), 'Gwyn': (44.5, -89.5),'Conor':(55.0, -106.0), \n",
    "                      'Sam': (25.7, -80.2), 'OffTheGrid': None}"
   ]
  },
  {
   "cell_type": "markdown",
   "metadata": {},
   "source": [
    "Now this `user_location_dict` only gives us so much information. To make a meaningful inference, we need to provide the model with another peice of information, a dictionary of objects mapping to a list of other objects, where the objects are contained in the first dictionary.\n",
    "\n",
    "For this example, we happen to have a dictionary `user_friend_dict` that maps **OffTheGrid** to a list of his friends."
   ]
  },
  {
   "cell_type": "code",
   "execution_count": 5,
   "metadata": {
    "collapsed": true
   },
   "outputs": [],
   "source": [
    "user_friend_dict = {'OffTheGrid': ['Tyler', 'Sam', 'Gwyn', 'Conor', 'Tim']}"
   ]
  },
  {
   "cell_type": "markdown",
   "metadata": {},
   "source": [
    "Finally with our instantiated and set class, and our two dictionaries we can run the model!"
   ]
  },
  {
   "cell_type": "code",
   "execution_count": 6,
   "metadata": {
    "collapsed": false
   },
   "outputs": [
    {
     "name": "stdout",
     "output_type": "stream",
     "text": [
      "{'Conor': (55.0, -106.0), 'OffTheGrid': (45.5, -73.5), 'Tyler': (44, -71.5), 'Tim': (45.5, -73.5), 'Sam': (25.7, -80.2), 'Gwyn': (44.5, -89.5)}\n"
     ]
    }
   ],
   "source": [
    "print(geosPy.locate(user_location_dict, user_friend_dict))"
   ]
  },
  {
   "cell_type": "markdown",
   "metadata": {},
   "source": [
    "Thus we see that **OffTheGrid** is most probably located at (45.5, -73.5) using the _Backstrom_ model."
   ]
  },
  {
   "cell_type": "code",
   "execution_count": null,
   "metadata": {
    "collapsed": true
   },
   "outputs": [],
   "source": []
  }
 ],
 "metadata": {
  "kernelspec": {
   "display_name": "Python 3",
   "language": "python",
   "name": "python3"
  },
  "language_info": {
   "codemirror_mode": {
    "name": "ipython",
    "version": 3
   },
   "file_extension": ".py",
   "mimetype": "text/x-python",
   "name": "python",
   "nbconvert_exporter": "python",
   "pygments_lexer": "ipython3",
   "version": "3.5.0"
  }
 },
 "nbformat": 4,
 "nbformat_minor": 0
}
